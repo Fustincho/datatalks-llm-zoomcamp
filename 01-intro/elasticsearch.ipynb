{
 "cells": [
  {
   "cell_type": "markdown",
   "metadata": {},
   "source": [
    "# A brief introduction to ElasticSearch"
   ]
  },
  {
   "cell_type": "markdown",
   "metadata": {},
   "source": [
    "## 1. Run Elasticsearch in a Docker container:\n",
    "\n",
    "First, make sure Docker is installed on your machine. Then, run the following command to start an Elasticsearch container:\n",
    "\n",
    "```bash\n",
    "docker run -it \\\n",
    "    --rm \\\n",
    "    --name elasticsearch \\\n",
    "    -p 9200:9200 \\\n",
    "    -e \"discovery.type=single-node\" \\\n",
    "    -e \"xpack.security.enabled=false\" \\\n",
    "    docker.elastic.co/elasticsearch/elasticsearch:8.4.3\n",
    "```\n",
    "\n",
    "Learn more about setting up Elasticsearch [here](https://www.elastic.co/guide/en/elasticsearch/reference/current/run-elasticsearch-locally.html\n",
    ")."
   ]
  },
  {
   "cell_type": "markdown",
   "metadata": {},
   "source": [
    "## 2. The Elasticsearch client\n",
    "\n",
    "The client maps from Python to Elasticsearch REST APIs. We will ingest our book data from `data/books.json` into an Elasticsearch **index**. For this, we will define:\n",
    "\n",
    "- Settings: determines how the index is set up and managed\n",
    "- Mappings: these will specify the data types for each field in our documents"
   ]
  },
  {
   "cell_type": "code",
   "execution_count": 1,
   "metadata": {},
   "outputs": [
    {
     "data": {
      "text/plain": [
       "ObjectApiResponse({'acknowledged': True, 'shards_acknowledged': True, 'index': 'books'})"
      ]
     },
     "execution_count": 1,
     "metadata": {},
     "output_type": "execute_result"
    }
   ],
   "source": [
    "from elasticsearch import Elasticsearch, helpers\n",
    "import json\n",
    "\n",
    "with open('./data/books.json', 'r') as f:\n",
    "    data = json.load(f)\n",
    "\n",
    "es = Elasticsearch(\"http://localhost:9200\")\n",
    "\n",
    "index_name = 'books'\n",
    "\n",
    "# Delete the index if it already exists\n",
    "if es.indices.exists(index=index_name):\n",
    "    es.indices.delete(index=index_name)\n",
    "\n",
    "\n",
    "body = {\n",
    "    \"settings\": {\n",
    "        \"number_of_shards\": 1,\n",
    "        \"number_of_replicas\": 0\n",
    "    },\n",
    "    \"mappings\": {\n",
    "        \"properties\": {\n",
    "            \"id\": {\"type\": \"integer\"},\n",
    "            \"book\": {\"type\": \"keyword\"},\n",
    "            \"book_name\": {\"type\": \"text\"},\n",
    "            \"edition\": {\"type\": \"keyword\"},\n",
    "            \"author\": {\"type\": \"text\"},\n",
    "            \"publication_year\": {\"type\": \"integer\"},\n",
    "            \"publication_month\": {\"type\": \"integer\"},\n",
    "            \"publication_day\": {\"type\": \"integer\"}\n",
    "        }\n",
    "    }\n",
    "}\n",
    "\n",
    "es.indices.create(index=index_name, body=body)"
   ]
  },
  {
   "cell_type": "markdown",
   "metadata": {},
   "source": [
    "Now we create the required structure for the `helpers.bulk` method by constructing a list of dictionaries with the appropriate keys: `(_index, _id, and _source)`. Then we use `bulk` to ingest the data into our index."
   ]
  },
  {
   "cell_type": "code",
   "execution_count": 2,
   "metadata": {},
   "outputs": [
    {
     "data": {
      "text/plain": [
       "(30, [])"
      ]
     },
     "execution_count": 2,
     "metadata": {},
     "output_type": "execute_result"
    }
   ],
   "source": [
    "actions = [\n",
    "    {\n",
    "        \"_index\": index_name,\n",
    "        \"_id\": entry['id'],\n",
    "        \"_source\": entry\n",
    "    }\n",
    "    for entry in data\n",
    "]\n",
    "\n",
    "helpers.bulk(es, actions)"
   ]
  },
  {
   "cell_type": "markdown",
   "metadata": {},
   "source": [
    "## 3. Basic queries and clauses"
   ]
  },
  {
   "cell_type": "markdown",
   "metadata": {},
   "source": [
    "We will explore how to perform simple queries using the Elasticsearch Python client. We will cover basic query structures including *must*, *must_not*, and *should* clauses. These clauses are part of the *bool* query, which allows for the combination of multiple conditions.\n",
    "\n",
    "### `match`\n",
    "\n",
    "A basic **match** query searches for documents that match a given text. For example, let's find all books with the word \"Python\" in their `book_name`:"
   ]
  },
  {
   "cell_type": "code",
   "execution_count": 3,
   "metadata": {},
   "outputs": [
    {
     "data": {
      "text/plain": [
       "[]"
      ]
     },
     "execution_count": 3,
     "metadata": {},
     "output_type": "execute_result"
    }
   ],
   "source": [
    "query = {\n",
    "    \"query\": {\n",
    "        \"match\": {\n",
    "            \"book_name\": \"Python\"\n",
    "        }\n",
    "    }\n",
    "}\n",
    "\n",
    "response = es.search(index=index_name, body=query)\n",
    "response['hits']['hits']"
   ]
  },
  {
   "cell_type": "markdown",
   "metadata": {},
   "source": [
    "To streamline our workflow, we created a utility function, `search_and_print`, that helps us easily access and print the hits from Elasticsearch query responses. Without this function, we would have to manually inspect `response['hits']['hits']` every time we run a query. This function simplifies the process, allowing us to quickly print the results while testing different queries."
   ]
  },
  {
   "cell_type": "code",
   "execution_count": 4,
   "metadata": {},
   "outputs": [],
   "source": [
    "def search_and_print(query, keys=None, es_client=es, index_name=index_name):\n",
    "    response = es_client.search(index=index_name, body=query)\n",
    "    hits = response['hits']['hits']\n",
    "    \n",
    "    print(\"Search Results:\")\n",
    "    for hit in hits:\n",
    "        print(f\"ID: {hit['_id']}\")\n",
    "        print(f\"Score: {hit['_score']}\")\n",
    "        print(\"Source:\")\n",
    "        for key, value in hit['_source'].items():\n",
    "            if keys:\n",
    "                if key in keys:\n",
    "                    print(f\"  {key}: {value}\")\n",
    "        print(\"\")"
   ]
  },
  {
   "cell_type": "markdown",
   "metadata": {},
   "source": [
    "### `must`\n",
    "\n",
    "The must clause requires that the specified conditions are satisfied. Let's find all books authored by \"Seth Godin\":"
   ]
  },
  {
   "cell_type": "code",
   "execution_count": 5,
   "metadata": {},
   "outputs": [
    {
     "name": "stdout",
     "output_type": "stream",
     "text": [
      "Search Results:\n"
     ]
    }
   ],
   "source": [
    "query = {\n",
    "    \"query\": {\n",
    "        \"bool\": {\n",
    "            \"must\": [\n",
    "                {\"match\": {\"author\": \"Seth Godin\"}}\n",
    "            ]\n",
    "        }\n",
    "    }\n",
    "}\n",
    "\n",
    "search_and_print(query, keys=['book_name', 'author'])"
   ]
  },
  {
   "cell_type": "markdown",
   "metadata": {},
   "source": [
    "### `must_not`\n",
    "\n",
    "The must_not, conversely, excludes documents that match the specified conditions:"
   ]
  },
  {
   "cell_type": "code",
   "execution_count": 6,
   "metadata": {},
   "outputs": [
    {
     "name": "stdout",
     "output_type": "stream",
     "text": [
      "Search Results:\n",
      "ID: 1\n",
      "Score: 0.0\n",
      "Source:\n",
      "  book_name: Cosmos\n",
      "  author: Carl Sagan\n",
      "\n",
      "ID: 2\n",
      "Score: 0.0\n",
      "Source:\n",
      "  book_name: A Brief History of Time\n",
      "  author: Stephen Hawking\n",
      "\n",
      "ID: 3\n",
      "Score: 0.0\n",
      "Source:\n",
      "  book_name: The Elegant Universe\n",
      "  author: Brian Greene\n",
      "\n",
      "ID: 4\n",
      "Score: 0.0\n",
      "Source:\n",
      "  book_name: The Art of Electronics\n",
      "  author: Paul Horowitz, Winfield Hill\n",
      "\n",
      "ID: 5\n",
      "Score: 0.0\n",
      "Source:\n",
      "  book_name: Make: Electronics\n",
      "  author: Charles Platt\n",
      "\n",
      "ID: 6\n",
      "Score: 0.0\n",
      "Source:\n",
      "  book_name: Practical Electronics for Inventors\n",
      "  author: Paul Scherz, Simon Monk\n",
      "\n",
      "ID: 7\n",
      "Score: 0.0\n",
      "Source:\n",
      "  book_name: Clean Code\n",
      "  author: Robert C. Martin\n",
      "\n",
      "ID: 8\n",
      "Score: 0.0\n",
      "Source:\n",
      "  book_name: The Pragmatic Programmer\n",
      "  author: Andrew Hunt, David Thomas\n",
      "\n",
      "ID: 9\n",
      "Score: 0.0\n",
      "Source:\n",
      "  book_name: Introduction to the Theory of Computation\n",
      "  author: Michael Sipser\n",
      "\n",
      "ID: 10\n",
      "Score: 0.0\n",
      "Source:\n",
      "  book_name: Black's Law Dictionary\n",
      "  author: Bryan A. Garner\n",
      "\n"
     ]
    }
   ],
   "source": [
    "query = {\n",
    "    \"query\": {\n",
    "        \"bool\": {\n",
    "            \"must_not\": [\n",
    "                {\"match\": {\"author\": \"Seth Godin\"}}\n",
    "            ]\n",
    "        }\n",
    "    }\n",
    "}\n",
    "\n",
    "search_and_print(query, keys=['book_name', 'author'])"
   ]
  },
  {
   "cell_type": "markdown",
   "metadata": {},
   "source": [
    "### `should`\n",
    "\n",
    "The should clause is used to specify optional conditions."
   ]
  },
  {
   "cell_type": "code",
   "execution_count": 7,
   "metadata": {},
   "outputs": [
    {
     "name": "stdout",
     "output_type": "stream",
     "text": [
      "Search Results:\n",
      "ID: 24\n",
      "Score: 5.850758\n",
      "Source:\n",
      "  book_name: Purple Cow: Transform Your Business by Being Remarkable\n",
      "  author: Seth Godin\n",
      "\n",
      "ID: 25\n",
      "Score: 5.850758\n",
      "Source:\n",
      "  book_name: This Is Marketing: You Can't Be Seen Until You Learn to See\n",
      "  author: Seth Godin\n",
      "\n",
      "ID: 20\n",
      "Score: 3.6756785\n",
      "Source:\n",
      "  book_name: Python Crash Course\n",
      "  author: Eric Matthes\n",
      "\n"
     ]
    }
   ],
   "source": [
    "query = {\n",
    "    \"query\": {\n",
    "        \"bool\": {\n",
    "            \"should\": [\n",
    "                {\"match\": {\"author\": \"Seth Godin\"}},\n",
    "                {\"match\": {\"book_name\": \"Python\"}}\n",
    "            ]\n",
    "        }\n",
    "    }\n",
    "}\n",
    "\n",
    "search_and_print(query, keys=['book_name', 'author'])"
   ]
  },
  {
   "cell_type": "markdown",
   "metadata": {},
   "source": [
    "### Boosting\n",
    "\n",
    "Boosting in Elasticsearch allows you to give more weight to certain conditions in your query, which helps rank more relevant documents higher in the search results. In this example, we'll search for programming books and give a higher `boost` to books authored by someone with the last name \"Simpson\"."
   ]
  },
  {
   "cell_type": "code",
   "execution_count": 8,
   "metadata": {},
   "outputs": [
    {
     "name": "stdout",
     "output_type": "stream",
     "text": [
      "Search Results:\n",
      "ID: 21\n",
      "Score: 8.600027\n",
      "Source:\n",
      "  book_name: You Don't Know JS: Scope & Closures\n",
      "  author: Kyle Simpson\n",
      "  publication_year: 2014\n",
      "\n",
      "ID: 7\n",
      "Score: 1.562185\n",
      "Source:\n",
      "  book_name: Clean Code\n",
      "  author: Robert C. Martin\n",
      "  publication_year: 2008\n",
      "\n",
      "ID: 8\n",
      "Score: 1.562185\n",
      "Source:\n",
      "  book_name: The Pragmatic Programmer\n",
      "  author: Andrew Hunt, David Thomas\n",
      "  publication_year: 2019\n",
      "\n"
     ]
    }
   ],
   "source": [
    "query = {\n",
    "    \"size\": 3,\n",
    "    \"query\": {\n",
    "        \"bool\": {\n",
    "            \"must\": [\n",
    "                {\"match\": {\"book\": \"Programming\"}}\n",
    "            ],\n",
    "            \"should\": [\n",
    "                {\n",
    "                    \"match\": {\n",
    "                        \"author\": {\n",
    "                            \"query\": \"Simpson\",\n",
    "                            \"boost\": 2\n",
    "                        }\n",
    "                    }\n",
    "                }\n",
    "            ]\n",
    "        }\n",
    "    }\n",
    "}\n",
    "\n",
    "search_and_print(query, keys=['author', 'book_name', 'publication_year'])"
   ]
  },
  {
   "cell_type": "markdown",
   "metadata": {},
   "source": [
    "### `terms`\n",
    "\n",
    "Term queries are used to find documents that contain an exact term in a specified field. Term queries are not analyzed, meaning they look for exact matches."
   ]
  },
  {
   "cell_type": "code",
   "execution_count": 9,
   "metadata": {},
   "outputs": [
    {
     "name": "stdout",
     "output_type": "stream",
     "text": [
      "Search Results:\n",
      "ID: 8\n",
      "Score: 1.0\n",
      "Source:\n",
      "  book_name: The Pragmatic Programmer\n",
      "  author: Andrew Hunt, David Thomas\n",
      "  publication_year: 2019\n",
      "\n",
      "ID: 10\n",
      "Score: 1.0\n",
      "Source:\n",
      "  book_name: Black's Law Dictionary\n",
      "  author: Bryan A. Garner\n",
      "  publication_year: 2019\n",
      "\n",
      "ID: 12\n",
      "Score: 1.0\n",
      "Source:\n",
      "  book_name: Constitutional Law: Principles and Policies\n",
      "  author: Erwin Chemerinsky\n",
      "  publication_year: 2019\n",
      "\n",
      "ID: 16\n",
      "Score: 1.0\n",
      "Source:\n",
      "  book_name: Astrophysics for People in a Hurry\n",
      "  author: Neil deGrasse Tyson\n",
      "  publication_year: 2017\n",
      "\n"
     ]
    }
   ],
   "source": [
    "query = {\n",
    "    \"size\": 4,\n",
    "    \"query\": {\n",
    "        \"terms\": {\n",
    "            \"publication_year\": [2017, 2019, 2020]\n",
    "        }\n",
    "    }\n",
    "}\n",
    "\n",
    "search_and_print(query, keys=['author', 'book_name', 'publication_year'])"
   ]
  },
  {
   "cell_type": "markdown",
   "metadata": {},
   "source": [
    "### `range`\n",
    "\n",
    "The range query is useful for numeric and date ranges. For example, let's find all books published after the year 2019:"
   ]
  },
  {
   "cell_type": "code",
   "execution_count": 10,
   "metadata": {},
   "outputs": [
    {
     "name": "stdout",
     "output_type": "stream",
     "text": [
      "Search Results:\n",
      "ID: 26\n",
      "Score: 1.0\n",
      "Source:\n",
      "  book_name: The Astrophysics of Planet Formation\n",
      "  author: Phil Armitage\n",
      "  publication_year: 2020\n",
      "\n",
      "ID: 28\n",
      "Score: 1.0\n",
      "Source:\n",
      "  book_name: Embedded Systems: Introduction to Arm Cortex-M Microcontrollers\n",
      "  author: Jonathan W. Valvano\n",
      "  publication_year: 2021\n",
      "\n"
     ]
    }
   ],
   "source": [
    "query = {\n",
    "    \"query\": {\n",
    "        \"range\": {\n",
    "            \"publication_year\": {\n",
    "                \"gt\": 2019\n",
    "            }\n",
    "        }\n",
    "    }\n",
    "}\n",
    "\n",
    "search_and_print(query, keys=['author', 'book_name', 'publication_year'])"
   ]
  },
  {
   "cell_type": "code",
   "execution_count": null,
   "metadata": {},
   "outputs": [],
   "source": []
  }
 ],
 "metadata": {
  "kernelspec": {
   "display_name": ".venv",
   "language": "python",
   "name": "python3"
  },
  "language_info": {
   "codemirror_mode": {
    "name": "ipython",
    "version": 3
   },
   "file_extension": ".py",
   "mimetype": "text/x-python",
   "name": "python",
   "nbconvert_exporter": "python",
   "pygments_lexer": "ipython3",
   "version": "3.11.7"
  }
 },
 "nbformat": 4,
 "nbformat_minor": 2
}
